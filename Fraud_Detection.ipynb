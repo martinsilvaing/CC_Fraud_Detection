{
 "cells": [
  {
   "cell_type": "markdown",
   "metadata": {},
   "source": [
    "# Credit Card Fraud Detection"
   ]
  },
  {
   "cell_type": "markdown",
   "metadata": {},
   "source": [
    "The goal of this notebook is to analize the dataset and detect fraudulent transactions.\n",
    "\n",
    "- The dataset contains transactions made by credit cards in September 2013 by european cardholders.\n",
    "- This dataset presents transactions that occurred in two days.\n",
    "- Features from V1 to V28 are the result of PCA transformation.\n",
    "- Time contains the seconds elapsed between each transaction and the first transaction in the dataset.\n",
    "- Amount is the transaction amount.\n",
    "- Class is the target variable, it takes a value of 1 in case of fraud and 0 otherwise."
   ]
  },
  {
   "cell_type": "code",
   "execution_count": 39,
   "metadata": {},
   "outputs": [],
   "source": [
    "# import libraries\n",
    "import pandas as pd\n",
    "import numpy as np\n",
    "import matplotlib.pyplot as plt\n",
    "import seaborn as sns\n",
    "from sklearn import preprocessing\n",
    "from sklearn.neighbors import KNeighborsClassifier\n",
    "from sklearn.pipeline import Pipeline\n",
    "from sklearn.model_selection import GridSearchCV\n",
    "from imblearn.over_sampling import SMOTE\n",
    "from sklearn.model_selection import KFold, cross_val_score\n",
    "from sklearn.metrics import confusion_matrix\n",
    "\n",
    "# read csv\n",
    "df = pd.read_csv('creditcard.csv')"
   ]
  },
  {
   "cell_type": "code",
   "execution_count": 2,
   "metadata": {},
   "outputs": [
    {
     "name": "stdout",
     "output_type": "stream",
     "text": [
      "There are 284807 values, from which 284315 are not fraud and 492 are fraud.\n",
      "\n",
      "No fraud: 99.8 %\n",
      "Fraud:    0.2 %\n"
     ]
    }
   ],
   "source": [
    "# shows percentages of each class value in the dataset\n",
    "n_classes = df['Class'].value_counts()\n",
    "total = df['Class'].count()\n",
    "print(f'There are {total} values, from which {n_classes[0]} are not fraud and {n_classes[1]} are fraud.\\n')\n",
    "print(f'No fraud: {round(n_classes[0]*100/total,1)} %\\nFraud:    {round(n_classes[1]*100/total,1)} %')"
   ]
  },
  {
   "cell_type": "markdown",
   "metadata": {},
   "source": [
    "Most of the observations in the dataset are from non-fraudulent cases, as a result the dataset is imbalanced."
   ]
  },
  {
   "cell_type": "markdown",
   "metadata": {},
   "source": [
    "### Balancing the data"
   ]
  },
  {
   "cell_type": "markdown",
   "metadata": {},
   "source": [
    "We can apply different techniques in order to balance our data, but the easiest one is to take a sample from the predominant class (not fraud) with the same size as the minor class (fraud)."
   ]
  },
  {
   "cell_type": "code",
   "execution_count": 3,
   "metadata": {},
   "outputs": [
    {
     "name": "stdout",
     "output_type": "stream",
     "text": [
      "Now we have a new dataframe with the same number of fraudulent and non fraudulent observations.\n",
      "\n",
      "1    492\n",
      "0    492\n",
      "Name: Class, dtype: int64\n"
     ]
    }
   ],
   "source": [
    "# selects the fraudulent observations\n",
    "fraud = df.loc[df['Class']==1]\n",
    "\n",
    "# takes a random sample from the non fraudulent observations, equal to the size of the fraudulent observations\n",
    "no_fraud = df.loc[df['Class']==0].sample(n=fraud.shape[0], random_state=0)\n",
    "\n",
    "df_balanced = fraud.append(no_fraud)\n",
    "print('Now we have a new dataframe with the same number of fraudulent and non fraudulent observations.\\n')\n",
    "\n",
    "# shuffle the new dataframe\n",
    "df_balanced = df_balanced.sample(frac=1, random_state=0)\n",
    "df_balanced.reset_index(drop=True, inplace=True)\n",
    "\n",
    "print(df_balanced['Class'].value_counts())"
   ]
  },
  {
   "cell_type": "markdown",
   "metadata": {},
   "source": [
    "### Standarize dataframe"
   ]
  },
  {
   "cell_type": "markdown",
   "metadata": {},
   "source": [
    "First, the dataframe is separated in a feature matrix __X__ and target vector __y__."
   ]
  },
  {
   "cell_type": "code",
   "execution_count": 4,
   "metadata": {},
   "outputs": [],
   "source": [
    "X = df_balanced.drop(columns='Class')\n",
    "y = df_balanced['Class']"
   ]
  },
  {
   "cell_type": "code",
   "execution_count": 5,
   "metadata": {},
   "outputs": [],
   "source": [
    "# save feature column names\n",
    "feature_cols = X.columns\n",
    "\n",
    "# standarize feature matrix\n",
    "scaler = preprocessing.StandardScaler()\n",
    "X_std = scaler.fit_transform(X)\n",
    "\n",
    "# goes back from np array to dataframe\n",
    "X_std = pd.DataFrame(X_std, columns=feature_cols)"
   ]
  },
  {
   "cell_type": "markdown",
   "metadata": {},
   "source": [
    "### Visualize correlations"
   ]
  },
  {
   "cell_type": "code",
   "execution_count": 6,
   "metadata": {
    "scrolled": false
   },
   "outputs": [
    {
     "data": {
      "text/plain": [
       "Text(0.5, 1, 'Correlations')"
      ]
     },
     "execution_count": 6,
     "metadata": {},
     "output_type": "execute_result"
    },
    {
     "data": {
      "image/png": "[encoded data removed]",
      "text/plain": [
       "<Figure size 720x504 with 2 Axes>"
      ]
     },
     "metadata": {
      "needs_background": "light"
     },
     "output_type": "display_data"
    }
   ],
   "source": [
    "# visualize correlations\n",
    "corr = X_std.join(y).corr()\n",
    "fig, hm = plt.subplots(figsize=(10,7))    \n",
    "hm = sns.heatmap(corr, cmap='coolwarm_r')\n",
    "hm.set_title('Correlations')"
   ]
  },
  {
   "cell_type": "markdown",
   "metadata": {},
   "source": [
    "From this plot it is possible to see two main things:\n",
    "\n",
    "- Features from V1 to V18 are more or less correlated, this is not a good thing because it means there are redundant features.\n",
    "- Features from V1 to V18 present a relatively strong correlation with the target, this is a good thing since they will help us predict a target value.\n",
    "\n",
    "I will focus the analysis in the next features: Time, V1, V2, V3, V4, V5, V6, V7, V9, V10, V11, V12, V14, V16, V17, V18 and I will refer to them as \"used_columns\" from now on."
   ]
  },
  {
   "cell_type": "code",
   "execution_count": 7,
   "metadata": {
    "scrolled": true
   },
   "outputs": [],
   "source": [
    "used_columns = ['Time', 'V1', 'V2', 'V3', 'V4', 'V5', 'V6', 'V7', 'V9', 'V10', 'V11', 'V12', 'V14', 'V16', 'V17', 'V18']\n",
    "\n",
    "# drops columns in both standarized and not standarized feature matrixes\n",
    "X = X[used_columns]\n",
    "X_std = X_std[used_columns]"
   ]
  },
  {
   "cell_type": "markdown",
   "metadata": {},
   "source": [
    "### K-Nearest Neighbors Model"
   ]
  },
  {
   "cell_type": "markdown",
   "metadata": {},
   "source": [
    "We will use KNN classifier and GridSearchCv to find the best value of K."
   ]
  },
  {
   "cell_type": "code",
   "execution_count": 8,
   "metadata": {},
   "outputs": [],
   "source": [
    "# Create a KNN classifier\n",
    "knn = KNeighborsClassifier(n_jobs=-1)\n",
    "\n",
    "# Create standardizer\n",
    "scaler = preprocessing.StandardScaler()\n",
    "\n",
    "# Create a pipeline\n",
    "pipeline = Pipeline([(\"scaler\", scaler), (\"knn\", knn)])\n",
    "\n",
    "# Create space of candidate values\n",
    "search_space = [{\"knn__n_neighbors\": [1, 2, 3, 4, 5, 6, 7]}]\n",
    "\n",
    "\n",
    "# Create grid search\n",
    "classifier = GridSearchCV(pipeline, search_space, cv=5, verbose=0)\n",
    "\n",
    "# Fit grid search\n",
    "model_knn = classifier.fit(X, y)"
   ]
  },
  {
   "cell_type": "code",
   "execution_count": 9,
   "metadata": {},
   "outputs": [],
   "source": [
    "# drop unused columns of original dataframe, separate in X and and test model with original dataframe\n",
    "df_X = df.drop(columns='Class')\n",
    "df_X = df_X[used_columns]\n",
    "df_y = df['Class']\n",
    "\n",
    "y_predicted = model_knn.predict(df_X)"
   ]
  },
  {
   "cell_type": "code",
   "execution_count": 10,
   "metadata": {},
   "outputs": [
    {
     "name": "stdout",
     "output_type": "stream",
     "text": [
      "The best value of K is: 4\n"
     ]
    }
   ],
   "source": [
    "# Best neighborhood size (k)\n",
    "K = model_knn.best_estimator_.get_params()[\"knn__n_neighbors\"]\n",
    "print(f'The best value of K is: {K}')"
   ]
  },
  {
   "cell_type": "code",
   "execution_count": 11,
   "metadata": {},
   "outputs": [
    {
     "name": "stdout",
     "output_type": "stream",
     "text": [
      "Accuracy: 98.5 %\n"
     ]
    }
   ],
   "source": [
    "from sklearn.metrics import accuracy_score\n",
    "print(f'Accuracy: {round(accuracy_score(df_y,y_predicted)*100,2)} %')"
   ]
  },
  {
   "cell_type": "code",
   "execution_count": 12,
   "metadata": {},
   "outputs": [
    {
     "data": {
      "text/plain": [
       "(Text(33.0, 0.5, 'True Class'), Text(0.5, 15.0, 'Predicted Class'))"
      ]
     },
     "execution_count": 12,
     "metadata": {},
     "output_type": "execute_result"
    },
    {
     "data": {
      "image/png": "[encoded data removed]",
      "text/plain": [
       "<Figure size 432x288 with 1 Axes>"
      ]
     },
     "metadata": {
      "needs_background": "light"
     },
     "output_type": "display_data"
    }
   ],
   "source": [
    "from sklearn.metrics import confusion_matrix\n",
    "\n",
    "# Create confusion matrix\n",
    "matrix = confusion_matrix(df_y, y_predicted)\n",
    "\n",
    "# represents confusion matrix with heatmap\n",
    "dataframe = pd.DataFrame(matrix, index=['No Fraud', 'Fraud'], columns=['No Fraud', 'Fraud'])\n",
    "sns.heatmap(dataframe, annot=True, cbar=None, cmap=\"Blues\", fmt='g', linewidths=1, linecolor='black')\n",
    "plt.title(\"Confusion Matrix\"), plt.tight_layout()\n",
    "plt.ylabel(\"True Class\"), plt.xlabel(\"Predicted Class\")"
   ]
  },
  {
   "cell_type": "markdown",
   "metadata": {},
   "source": [
    "- 280107 true negatives\n",
    "- 442 true positives\n",
    "- 50 false negatives: predicted no fraud, actually fraud\n",
    "- 4208 false positives: predicted fraud, actually no fraud"
   ]
  },
  {
   "cell_type": "markdown",
   "metadata": {},
   "source": [
    "### SMOTE"
   ]
  },
  {
   "cell_type": "code",
   "execution_count": 13,
   "metadata": {},
   "outputs": [
    {
     "name": "stdout",
     "output_type": "stream",
     "text": [
      "1    284315\n",
      "0    284315\n",
      "Name: Class, dtype: int64\n"
     ]
    }
   ],
   "source": [
    "# supress annoying warning message\n",
    "import warnings\n",
    "warnings.filterwarnings(\"ignore\")\n",
    "\n",
    "# select the used columns from the features dataframe\n",
    "df_X = df_X[used_columns]\n",
    "\n",
    "sm = SMOTE(random_state=1)\n",
    "X_res, y_res = sm.fit_resample(df_X,df_y)\n",
    "\n",
    "X_res = pd.DataFrame(X_res, columns=df_X.columns)\n",
    "y_res = pd.DataFrame(y_res, columns=['Class'])\n",
    "print(y_res['Class'].value_counts())"
   ]
  },
  {
   "cell_type": "markdown",
   "metadata": {},
   "source": [
    "Now the data is balanced, but in this case we created new observations in order to balance the data."
   ]
  },
  {
   "cell_type": "code",
   "execution_count": 14,
   "metadata": {},
   "outputs": [],
   "source": [
    "# create a KNN classifier\n",
    "knn = KNeighborsClassifier(n_neighbors=4, n_jobs=-1)\n",
    "\n",
    "# create standardizer\n",
    "scaler = preprocessing.StandardScaler()\n",
    "\n",
    "# create a pipeline\n",
    "pipeline = Pipeline([(\"scaler\", scaler), (\"knn\", knn)])\n",
    "\n",
    "# cross validation\n",
    "kf = KFold(n_splits=5, shuffle=True, random_state=1)\n",
    "\n",
    "cv_results = cross_val_score(pipeline, X_res, y_res, cv=kf, scoring=\"accuracy\", n_jobs=-1)"
   ]
  },
  {
   "cell_type": "code",
   "execution_count": 15,
   "metadata": {},
   "outputs": [
    {
     "name": "stdout",
     "output_type": "stream",
     "text": [
      "Accuracy: 99.95 %\n"
     ]
    }
   ],
   "source": [
    "# Calculate mean\n",
    "print(f'Accuracy: {round(cv_results.mean()*100,2)} %')"
   ]
  },
  {
   "cell_type": "code",
   "execution_count": 16,
   "metadata": {},
   "outputs": [],
   "source": [
    "model_smote = pipeline.fit(X_res,y_res)"
   ]
  },
  {
   "cell_type": "code",
   "execution_count": 17,
   "metadata": {},
   "outputs": [],
   "source": [
    "y_predicted = model_smote.predict(df_X)"
   ]
  },
  {
   "cell_type": "code",
   "execution_count": 18,
   "metadata": {},
   "outputs": [
    {
     "data": {
      "text/plain": [
       "(Text(33.0, 0.5, 'True Class'), Text(0.5, 15.0, 'Predicted Class'))"
      ]
     },
     "execution_count": 18,
     "metadata": {},
     "output_type": "execute_result"
    },
    {
     "data": {
      "image/png": "[encoded data removed]",
      "text/plain": [
       "<Figure size 432x288 with 1 Axes>"
      ]
     },
     "metadata": {
      "needs_background": "light"
     },
     "output_type": "display_data"
    }
   ],
   "source": [
    "# create confusion matrix\n",
    "matrix = confusion_matrix(df_y, y_predicted)\n",
    "\n",
    "# represents confusion matrix with heatmap\n",
    "dataframe = pd.DataFrame(matrix, index=['No Fraud', 'Fraud'], columns=['No Fraud', 'Fraud'])\n",
    "sns.heatmap(dataframe, annot=True, cbar=None, cmap=\"Blues\", fmt='g', linewidths=1, linecolor='black')\n",
    "plt.title(\"Confusion Matrix\"), plt.tight_layout()\n",
    "plt.ylabel(\"True Class\"), plt.xlabel(\"Predicted Class\")"
   ]
  },
  {
   "cell_type": "markdown",
   "metadata": {},
   "source": [
    "- 284209 true negatives\n",
    "- 492 true positives\n",
    "- 0 false negatives: predicted no fraud, actually fraud\n",
    "- 106 false positives: predicted fraud, actually no fraud\n",
    "\n",
    "We can see that there is an improvement compared to the previous under-sampling method."
   ]
  },
  {
   "cell_type": "markdown",
   "metadata": {},
   "source": [
    "### Neural Networks"
   ]
  },
  {
   "cell_type": "markdown",
   "metadata": {},
   "source": [
    "We will use the over-sampled data to train a Neural Network model and then see if there is any improvement."
   ]
  },
  {
   "cell_type": "code",
   "execution_count": 34,
   "metadata": {},
   "outputs": [
    {
     "name": "stdout",
     "output_type": "stream",
     "text": [
      "Train on 454904 samples, validate on 113726 samples\n",
      "Epoch 1/7\n",
      "454904/454904 [==============================] - 16s 36us/sample - loss: 0.0604 - acc: 0.9782 - val_loss: 0.0372 - val_acc: 0.9873\n",
      "Epoch 2/7\n",
      "454904/454904 [==============================] - 16s 36us/sample - loss: 0.0326 - acc: 0.9887 - val_loss: 0.0410 - val_acc: 0.9870\n",
      "Epoch 3/7\n",
      "454904/454904 [==============================] - 16s 35us/sample - loss: 0.0271 - acc: 0.9908 - val_loss: 0.0239 - val_acc: 0.9924\n",
      "Epoch 4/7\n",
      "454904/454904 [==============================] - 17s 37us/sample - loss: 0.0237 - acc: 0.9921 - val_loss: 0.0227 - val_acc: 0.9922\n",
      "Epoch 5/7\n",
      "454904/454904 [==============================] - 17s 38us/sample - loss: 0.0211 - acc: 0.9930 - val_loss: 0.0250 - val_acc: 0.9909\n",
      "Epoch 6/7\n",
      "454904/454904 [==============================] - 18s 40us/sample - loss: 0.0193 - acc: 0.9937 - val_loss: 0.0180 - val_acc: 0.9946\n",
      "Epoch 7/7\n",
      "454904/454904 [==============================] - 18s 40us/sample - loss: 0.0181 - acc: 0.9942 - val_loss: 0.0173 - val_acc: 0.9950\n"
     ]
    }
   ],
   "source": [
    "import tensorflow as tf\n",
    "from tensorflow import keras\n",
    "\n",
    "# number of features\n",
    "n_inputs = X_res.shape[1]\n",
    "\n",
    "# split data\n",
    "from sklearn.model_selection import train_test_split\n",
    "X_train, X_test, y_train, y_test = train_test_split(X_res,y_res,random_state=0, test_size=0.2)\n",
    "\n",
    "# standarize\n",
    "scaler = preprocessing.StandardScaler()\n",
    "\n",
    "# transform\n",
    "scaler.fit(X_train)\n",
    "X_std = scaler.transform(X_train)\n",
    "X_test = scaler.transform(X_test)\n",
    "\n",
    "\n",
    "NNmodel = keras.Sequential([\n",
    "    keras.layers.Dense(n_inputs, input_shape=(n_inputs, ), activation='relu'),  # input layer (1)\n",
    "    keras.layers.Dense(30, activation='relu'),  # hidden layer (2)\n",
    "    keras.layers.Dense(1, activation='sigmoid') # output layer (3)\n",
    "])\n",
    "\n",
    "NNmodel.compile(optimizer='adam',\n",
    "              loss='binary_crossentropy',\n",
    "              metrics=['accuracy'])\n",
    "\n",
    "history = NNmodel.fit(X_std, y_train, epochs=7, validation_data=(X_test, y_test))"
   ]
  },
  {
   "cell_type": "code",
   "execution_count": 35,
   "metadata": {},
   "outputs": [
    {
     "data": {
      "text/plain": [
       "Text(0.5, 0, 'Epoch')"
      ]
     },
     "execution_count": 35,
     "metadata": {},
     "output_type": "execute_result"
    },
    {
     "data": {
      "image/png": "[encoded data removed]",
      "text/plain": [
       "<Figure size 432x288 with 1 Axes>"
      ]
     },
     "metadata": {
      "needs_background": "light"
     },
     "output_type": "display_data"
    }
   ],
   "source": [
    "# get training and test loss histories\n",
    "training_loss = history.history[\"loss\"]\n",
    "test_loss = history.history[\"val_loss\"]\n",
    "\n",
    "# create count of the number of epochs\n",
    "epoch_count = range(1, len(training_loss) + 1)\n",
    "\n",
    "# visualize loss history\n",
    "plt.plot(epoch_count, training_loss, \"r--\")\n",
    "plt.plot(epoch_count, test_loss, \"b-\")\n",
    "plt.legend([\"Training Loss\", \"Test Loss\"])\n",
    "plt.xlabel(\"Epoch\")"
   ]
  },
  {
   "cell_type": "code",
   "execution_count": 36,
   "metadata": {},
   "outputs": [
    {
     "data": {
      "image/png": "[encoded data removed]",
      "text/plain": [
       "<Figure size 432x288 with 1 Axes>"
      ]
     },
     "metadata": {
      "needs_background": "light"
     },
     "output_type": "display_data"
    }
   ],
   "source": [
    "\n",
    "# get training and test accuracy histories\n",
    "training_accuracy = history.history[\"acc\"]\n",
    "test_accuracy = history.history[\"val_acc\"]\n",
    "plt.plot(epoch_count, training_accuracy, \"r--\")\n",
    "plt.plot(epoch_count, test_accuracy, \"b-\")\n",
    "\n",
    "# visualize accuracy history\n",
    "plt.legend([\"Training Accuracy\", \"Test Accuracy\"])\n",
    "plt.xlabel(\"Epoch\")\n",
    "plt.ylabel(\"Accuracy Score\")\n",
    "plt.show();"
   ]
  },
  {
   "cell_type": "code",
   "execution_count": 37,
   "metadata": {},
   "outputs": [],
   "source": [
    "# make predictions\n",
    "NN_pred = NNmodel.predict(scaler.transform(df_X))"
   ]
  },
  {
   "cell_type": "code",
   "execution_count": 38,
   "metadata": {},
   "outputs": [
    {
     "data": {
      "text/plain": [
       "(Text(33.0, 0.5, 'True Class'), Text(0.5, 15.0, 'Predicted Class'))"
      ]
     },
     "execution_count": 38,
     "metadata": {},
     "output_type": "execute_result"
    },
    {
     "data": {
      "image/png": "[encoded data removed]",
      "text/plain": [
       "<Figure size 432x288 with 1 Axes>"
      ]
     },
     "metadata": {
      "needs_background": "light"
     },
     "output_type": "display_data"
    }
   ],
   "source": [
    "# create confusion matrix\n",
    "matrix = confusion_matrix(df_y, NN_pred.astype(int))\n",
    "\n",
    "# represents confusion matrix with heatmap\n",
    "dataframe = pd.DataFrame(matrix, index=['No Fraud', 'Fraud'], columns=['No Fraud', 'Fraud'])\n",
    "sns.heatmap(dataframe, annot=True, cbar=None, cmap=\"Blues\", fmt='g', linewidths=1, linecolor='black')\n",
    "plt.title(\"Confusion Matrix\"), plt.tight_layout()\n",
    "plt.ylabel(\"True Class\"), plt.xlabel(\"Predicted Class\")"
   ]
  },
  {
   "cell_type": "markdown",
   "metadata": {},
   "source": [
    "### Conclusions"
   ]
  },
  {
   "cell_type": "markdown",
   "metadata": {},
   "source": [
    "Almost a third part of the features present little or no correlation with the target. Some of the features that correlate with the target correlate with each other as well. This could mean that there is redundancy in the information provided by some of these features.\n",
    "\n",
    "3 different methods for classifying the data were tried:\n",
    "\n",
    "- KNN with under-sampled data\n",
    "- KNN with over-sampled data using SMOTE\n",
    "- Neural Networks\n",
    "\n",
    "Using KNN with under-sampled data leads to bad results (4208 false positives and 50 false negatives). This is due to the fact that a lot of the observations were left out during the undersampling. The KNN under-sampled model had best results when K=4.\n",
    "\n",
    "There was a big improvement using KNN with the over-sampling method. This led to 106 false positives and 0 false negatives. Again, the best results were achieved when using K=4.\n",
    "\n",
    "Lastly, a feedforward neural network model was implemented. This NN was composed of 1 Dense input layer, one hidden layer with 16 neurons and 1 dense output layer with 1 neuron and a sigmoid activation function. The results were a little bit worse than the previous method."
   ]
  },
  {
   "cell_type": "code",
   "execution_count": null,
   "metadata": {},
   "outputs": [],
   "source": []
  }
 ],
 "metadata": {
  "kernelspec": {
   "display_name": "Python 3",
   "language": "python",
   "name": "python3"
  },
  "language_info": {
   "codemirror_mode": {
    "name": "ipython",
    "version": 3
   },
   "file_extension": ".py",
   "mimetype": "text/x-python",
   "name": "python",
   "nbconvert_exporter": "python",
   "pygments_lexer": "ipython3",
   "version": "3.7.6"
  }
 },
 "nbformat": 4,
 "nbformat_minor": 4
}
